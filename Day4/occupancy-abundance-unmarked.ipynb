{
 "cells": [
  {
   "cell_type": "markdown",
   "metadata": {
    "slideshow": {
     "slide_type": "slide"
    },
    "tags": []
   },
   "source": [
    "# Occupancy-abundance models in `unmarked`\n",
    "\n",
    "### Ken Kellner"
   ]
  },
  {
   "cell_type": "markdown",
   "metadata": {
    "slideshow": {
     "slide_type": "slide"
    }
   },
   "source": [
    "## Introduction\n",
    "\n",
    "This model is in development and so is not available in `unmarked` from CRAN."
   ]
  },
  {
   "cell_type": "code",
   "execution_count": 3,
   "metadata": {
    "slideshow": {
     "slide_type": "fragment"
    },
    "tags": []
   },
   "outputs": [],
   "source": [
    "# remotes::install_github(\"rbchan/unmarked\", ref=\"occuRNMulti\")\n",
    "library(unmarked)"
   ]
  },
  {
   "cell_type": "markdown",
   "metadata": {
    "slideshow": {
     "slide_type": "fragment"
    },
    "tags": []
   },
   "source": [
    "We will use the function `occuRNMulti`*\n",
    "\n",
    "\\* *Name will almost certainly change*"
   ]
  },
  {
   "cell_type": "markdown",
   "metadata": {
    "slideshow": {
     "slide_type": "fragment"
    }
   },
   "source": [
    "![](occuRNMulti.png)"
   ]
  },
  {
   "cell_type": "markdown",
   "metadata": {
    "slideshow": {
     "slide_type": "slide"
    }
   },
   "source": [
    "## Model support\n",
    "\n",
    "Supports up to 3 species, and most possible combinations:\n",
    "\n",
    "sp1 --> sp2\n",
    "\n",
    "sp1 --> sp2 --> sp3\n",
    "\n",
    "sp1 --> sp3 <-- sp2\n",
    "\n",
    "sp2 <-- sp1 --> sp3\n",
    "\n",
    "sp1 --> sp2 --> sp3 & sp1 --> sp3"
   ]
  },
  {
   "cell_type": "markdown",
   "metadata": {
    "slideshow": {
     "slide_type": "slide"
    }
   },
   "source": [
    "## Set up the input data\n",
    "\n",
    "Mesocarnivores again."
   ]
  },
  {
   "cell_type": "code",
   "execution_count": 4,
   "metadata": {
    "slideshow": {
     "slide_type": "fragment"
    }
   },
   "outputs": [
    {
     "data": {
      "text/html": [
       "<dl>\n",
       "\t<dt>$bobcat</dt>\n",
       "\t\t<dd><table class=\"dataframe\">\n",
       "<caption>A matrix: 6 × 3 of type int</caption>\n",
       "<thead>\n",
       "\t<tr><th scope=col>X1</th><th scope=col>X2</th><th scope=col>X3</th></tr>\n",
       "</thead>\n",
       "<tbody>\n",
       "\t<tr><td>0</td><td>0</td><td>0</td></tr>\n",
       "\t<tr><td>0</td><td>0</td><td>0</td></tr>\n",
       "\t<tr><td>0</td><td>0</td><td>0</td></tr>\n",
       "\t<tr><td>0</td><td>0</td><td>0</td></tr>\n",
       "\t<tr><td>0</td><td>0</td><td>0</td></tr>\n",
       "\t<tr><td>0</td><td>0</td><td>0</td></tr>\n",
       "</tbody>\n",
       "</table>\n",
       "</dd>\n",
       "\t<dt>$coyote</dt>\n",
       "\t\t<dd><table class=\"dataframe\">\n",
       "<caption>A matrix: 6 × 3 of type int</caption>\n",
       "<thead>\n",
       "\t<tr><th scope=col>X1</th><th scope=col>X2</th><th scope=col>X3</th></tr>\n",
       "</thead>\n",
       "<tbody>\n",
       "\t<tr><td>0</td><td>0</td><td>0</td></tr>\n",
       "\t<tr><td>0</td><td>0</td><td>0</td></tr>\n",
       "\t<tr><td>0</td><td>0</td><td>0</td></tr>\n",
       "\t<tr><td>0</td><td>0</td><td>0</td></tr>\n",
       "\t<tr><td>0</td><td>0</td><td>0</td></tr>\n",
       "\t<tr><td>0</td><td>0</td><td>0</td></tr>\n",
       "</tbody>\n",
       "</table>\n",
       "</dd>\n",
       "\t<dt>$redfox</dt>\n",
       "\t\t<dd><table class=\"dataframe\">\n",
       "<caption>A matrix: 6 × 3 of type int</caption>\n",
       "<thead>\n",
       "\t<tr><th scope=col>X1</th><th scope=col>X2</th><th scope=col>X3</th></tr>\n",
       "</thead>\n",
       "<tbody>\n",
       "\t<tr><td>0</td><td>0</td><td>0</td></tr>\n",
       "\t<tr><td>0</td><td>0</td><td>0</td></tr>\n",
       "\t<tr><td>0</td><td>0</td><td>1</td></tr>\n",
       "\t<tr><td>0</td><td>0</td><td>0</td></tr>\n",
       "\t<tr><td>0</td><td>0</td><td>0</td></tr>\n",
       "\t<tr><td>1</td><td>1</td><td>1</td></tr>\n",
       "</tbody>\n",
       "</table>\n",
       "</dd>\n",
       "\t<dt>$sitecovs</dt>\n",
       "\t\t<dd><table class=\"dataframe\">\n",
       "<caption>A data.frame: 6 × 6</caption>\n",
       "<thead>\n",
       "\t<tr><th></th><th scope=col>Dist_5km</th><th scope=col>HDens_5km</th><th scope=col>Latitude</th><th scope=col>Longitude</th><th scope=col>People_site</th><th scope=col>Trail</th></tr>\n",
       "\t<tr><th></th><th scope=col>&lt;dbl&gt;</th><th scope=col>&lt;dbl&gt;</th><th scope=col>&lt;dbl&gt;</th><th scope=col>&lt;dbl&gt;</th><th scope=col>&lt;dbl&gt;</th><th scope=col>&lt;int&gt;</th></tr>\n",
       "</thead>\n",
       "<tbody>\n",
       "\t<tr><th scope=row>1</th><td>0.04</td><td>9.345258</td><td>0.3899441</td><td>-0.7723958</td><td>0.857</td><td>1</td></tr>\n",
       "\t<tr><th scope=row>2</th><td>0.03</td><td>9.499197</td><td>0.3899250</td><td>-0.7723920</td><td>0.002</td><td>0</td></tr>\n",
       "\t<tr><th scope=row>3</th><td>0.03</td><td>9.647173</td><td>0.3899111</td><td>-0.7723954</td><td>0.387</td><td>1</td></tr>\n",
       "\t<tr><th scope=row>4</th><td>0.03</td><td>9.598066</td><td>0.3899166</td><td>-0.7723972</td><td>0.003</td><td>0</td></tr>\n",
       "\t<tr><th scope=row>5</th><td>0.03</td><td>9.607825</td><td>0.3899179</td><td>-0.7724004</td><td>0.000</td><td>0</td></tr>\n",
       "\t<tr><th scope=row>6</th><td>0.03</td><td>9.748791</td><td>0.3899058</td><td>-0.7724046</td><td>0.443</td><td>1</td></tr>\n",
       "</tbody>\n",
       "</table>\n",
       "</dd>\n",
       "</dl>\n"
      ],
      "text/latex": [
       "\\begin{description}\n",
       "\\item[\\$bobcat] A matrix: 6 × 3 of type int\n",
       "\\begin{tabular}{lll}\n",
       " X1 & X2 & X3\\\\\n",
       "\\hline\n",
       "\t 0 & 0 & 0\\\\\n",
       "\t 0 & 0 & 0\\\\\n",
       "\t 0 & 0 & 0\\\\\n",
       "\t 0 & 0 & 0\\\\\n",
       "\t 0 & 0 & 0\\\\\n",
       "\t 0 & 0 & 0\\\\\n",
       "\\end{tabular}\n",
       "\n",
       "\\item[\\$coyote] A matrix: 6 × 3 of type int\n",
       "\\begin{tabular}{lll}\n",
       " X1 & X2 & X3\\\\\n",
       "\\hline\n",
       "\t 0 & 0 & 0\\\\\n",
       "\t 0 & 0 & 0\\\\\n",
       "\t 0 & 0 & 0\\\\\n",
       "\t 0 & 0 & 0\\\\\n",
       "\t 0 & 0 & 0\\\\\n",
       "\t 0 & 0 & 0\\\\\n",
       "\\end{tabular}\n",
       "\n",
       "\\item[\\$redfox] A matrix: 6 × 3 of type int\n",
       "\\begin{tabular}{lll}\n",
       " X1 & X2 & X3\\\\\n",
       "\\hline\n",
       "\t 0 & 0 & 0\\\\\n",
       "\t 0 & 0 & 0\\\\\n",
       "\t 0 & 0 & 1\\\\\n",
       "\t 0 & 0 & 0\\\\\n",
       "\t 0 & 0 & 0\\\\\n",
       "\t 1 & 1 & 1\\\\\n",
       "\\end{tabular}\n",
       "\n",
       "\\item[\\$sitecovs] A data.frame: 6 × 6\n",
       "\\begin{tabular}{r|llllll}\n",
       "  & Dist\\_5km & HDens\\_5km & Latitude & Longitude & People\\_site & Trail\\\\\n",
       "  & <dbl> & <dbl> & <dbl> & <dbl> & <dbl> & <int>\\\\\n",
       "\\hline\n",
       "\t1 & 0.04 & 9.345258 & 0.3899441 & -0.7723958 & 0.857 & 1\\\\\n",
       "\t2 & 0.03 & 9.499197 & 0.3899250 & -0.7723920 & 0.002 & 0\\\\\n",
       "\t3 & 0.03 & 9.647173 & 0.3899111 & -0.7723954 & 0.387 & 1\\\\\n",
       "\t4 & 0.03 & 9.598066 & 0.3899166 & -0.7723972 & 0.003 & 0\\\\\n",
       "\t5 & 0.03 & 9.607825 & 0.3899179 & -0.7724004 & 0.000 & 0\\\\\n",
       "\t6 & 0.03 & 9.748791 & 0.3899058 & -0.7724046 & 0.443 & 1\\\\\n",
       "\\end{tabular}\n",
       "\n",
       "\\end{description}\n"
      ],
      "text/markdown": [
       "$bobcat\n",
       ":   \n",
       "A matrix: 6 × 3 of type int\n",
       "\n",
       "| X1 | X2 | X3 |\n",
       "|---|---|---|\n",
       "| 0 | 0 | 0 |\n",
       "| 0 | 0 | 0 |\n",
       "| 0 | 0 | 0 |\n",
       "| 0 | 0 | 0 |\n",
       "| 0 | 0 | 0 |\n",
       "| 0 | 0 | 0 |\n",
       "\n",
       "\n",
       "$coyote\n",
       ":   \n",
       "A matrix: 6 × 3 of type int\n",
       "\n",
       "| X1 | X2 | X3 |\n",
       "|---|---|---|\n",
       "| 0 | 0 | 0 |\n",
       "| 0 | 0 | 0 |\n",
       "| 0 | 0 | 0 |\n",
       "| 0 | 0 | 0 |\n",
       "| 0 | 0 | 0 |\n",
       "| 0 | 0 | 0 |\n",
       "\n",
       "\n",
       "$redfox\n",
       ":   \n",
       "A matrix: 6 × 3 of type int\n",
       "\n",
       "| X1 | X2 | X3 |\n",
       "|---|---|---|\n",
       "| 0 | 0 | 0 |\n",
       "| 0 | 0 | 0 |\n",
       "| 0 | 0 | 1 |\n",
       "| 0 | 0 | 0 |\n",
       "| 0 | 0 | 0 |\n",
       "| 1 | 1 | 1 |\n",
       "\n",
       "\n",
       "$sitecovs\n",
       ":   \n",
       "A data.frame: 6 × 6\n",
       "\n",
       "| <!--/--> | Dist_5km &lt;dbl&gt; | HDens_5km &lt;dbl&gt; | Latitude &lt;dbl&gt; | Longitude &lt;dbl&gt; | People_site &lt;dbl&gt; | Trail &lt;int&gt; |\n",
       "|---|---|---|---|---|---|---|\n",
       "| 1 | 0.04 | 9.345258 | 0.3899441 | -0.7723958 | 0.857 | 1 |\n",
       "| 2 | 0.03 | 9.499197 | 0.3899250 | -0.7723920 | 0.002 | 0 |\n",
       "| 3 | 0.03 | 9.647173 | 0.3899111 | -0.7723954 | 0.387 | 1 |\n",
       "| 4 | 0.03 | 9.598066 | 0.3899166 | -0.7723972 | 0.003 | 0 |\n",
       "| 5 | 0.03 | 9.607825 | 0.3899179 | -0.7724004 | 0.000 | 0 |\n",
       "| 6 | 0.03 | 9.748791 | 0.3899058 | -0.7724046 | 0.443 | 1 |\n",
       "\n",
       "\n",
       "\n",
       "\n"
      ],
      "text/plain": [
       "$bobcat\n",
       "     X1 X2 X3\n",
       "[1,]  0  0  0\n",
       "[2,]  0  0  0\n",
       "[3,]  0  0  0\n",
       "[4,]  0  0  0\n",
       "[5,]  0  0  0\n",
       "[6,]  0  0  0\n",
       "\n",
       "$coyote\n",
       "     X1 X2 X3\n",
       "[1,]  0  0  0\n",
       "[2,]  0  0  0\n",
       "[3,]  0  0  0\n",
       "[4,]  0  0  0\n",
       "[5,]  0  0  0\n",
       "[6,]  0  0  0\n",
       "\n",
       "$redfox\n",
       "     X1 X2 X3\n",
       "[1,]  0  0  0\n",
       "[2,]  0  0  0\n",
       "[3,]  0  0  1\n",
       "[4,]  0  0  0\n",
       "[5,]  0  0  0\n",
       "[6,]  1  1  1\n",
       "\n",
       "$sitecovs\n",
       "  Dist_5km HDens_5km  Latitude  Longitude People_site Trail\n",
       "1     0.04  9.345258 0.3899441 -0.7723958       0.857     1\n",
       "2     0.03  9.499197 0.3899250 -0.7723920       0.002     0\n",
       "3     0.03  9.647173 0.3899111 -0.7723954       0.387     1\n",
       "4     0.03  9.598066 0.3899166 -0.7723972       0.003     0\n",
       "5     0.03  9.607825 0.3899179 -0.7724004       0.000     0\n",
       "6     0.03  9.748791 0.3899058 -0.7724046       0.443     1\n"
      ]
     },
     "metadata": {},
     "output_type": "display_data"
    }
   ],
   "source": [
    "data(MesoCarnivores)\n",
    "lapply(MesoCarnivores, head) # look at raw data"
   ]
  },
  {
   "cell_type": "markdown",
   "metadata": {
    "slideshow": {
     "slide_type": "slide"
    }
   },
   "source": [
    "### Formatting the data\n",
    "\n",
    "We will create an `unmarkedFrameOccuMulti` exactly as we did in the multispecies occupancy section."
   ]
  },
  {
   "cell_type": "markdown",
   "metadata": {
    "slideshow": {
     "slide_type": "fragment"
    }
   },
   "source": [
    "![](umf_om_construction.png)"
   ]
  },
  {
   "cell_type": "markdown",
   "metadata": {
    "slideshow": {
     "slide_type": "slide"
    }
   },
   "source": [
    "### y list\n",
    "\n",
    "We'll run a two-species model"
   ]
  },
  {
   "cell_type": "code",
   "execution_count": 5,
   "metadata": {
    "slideshow": {
     "slide_type": "fragment"
    }
   },
   "outputs": [
    {
     "data": {
      "text/html": [
       "<dl>\n",
       "\t<dt>$coyote</dt>\n",
       "\t\t<dd><table class=\"dataframe\">\n",
       "<caption>A matrix: 6 × 3 of type int</caption>\n",
       "<thead>\n",
       "\t<tr><th scope=col>X1</th><th scope=col>X2</th><th scope=col>X3</th></tr>\n",
       "</thead>\n",
       "<tbody>\n",
       "\t<tr><td>0</td><td>0</td><td>0</td></tr>\n",
       "\t<tr><td>0</td><td>0</td><td>0</td></tr>\n",
       "\t<tr><td>0</td><td>0</td><td>0</td></tr>\n",
       "\t<tr><td>0</td><td>0</td><td>0</td></tr>\n",
       "\t<tr><td>0</td><td>0</td><td>0</td></tr>\n",
       "\t<tr><td>0</td><td>0</td><td>0</td></tr>\n",
       "</tbody>\n",
       "</table>\n",
       "</dd>\n",
       "\t<dt>$redfox</dt>\n",
       "\t\t<dd><table class=\"dataframe\">\n",
       "<caption>A matrix: 6 × 3 of type int</caption>\n",
       "<thead>\n",
       "\t<tr><th scope=col>X1</th><th scope=col>X2</th><th scope=col>X3</th></tr>\n",
       "</thead>\n",
       "<tbody>\n",
       "\t<tr><td>0</td><td>0</td><td>0</td></tr>\n",
       "\t<tr><td>0</td><td>0</td><td>0</td></tr>\n",
       "\t<tr><td>0</td><td>0</td><td>1</td></tr>\n",
       "\t<tr><td>0</td><td>0</td><td>0</td></tr>\n",
       "\t<tr><td>0</td><td>0</td><td>0</td></tr>\n",
       "\t<tr><td>1</td><td>1</td><td>1</td></tr>\n",
       "</tbody>\n",
       "</table>\n",
       "</dd>\n",
       "</dl>\n"
      ],
      "text/latex": [
       "\\begin{description}\n",
       "\\item[\\$coyote] A matrix: 6 × 3 of type int\n",
       "\\begin{tabular}{lll}\n",
       " X1 & X2 & X3\\\\\n",
       "\\hline\n",
       "\t 0 & 0 & 0\\\\\n",
       "\t 0 & 0 & 0\\\\\n",
       "\t 0 & 0 & 0\\\\\n",
       "\t 0 & 0 & 0\\\\\n",
       "\t 0 & 0 & 0\\\\\n",
       "\t 0 & 0 & 0\\\\\n",
       "\\end{tabular}\n",
       "\n",
       "\\item[\\$redfox] A matrix: 6 × 3 of type int\n",
       "\\begin{tabular}{lll}\n",
       " X1 & X2 & X3\\\\\n",
       "\\hline\n",
       "\t 0 & 0 & 0\\\\\n",
       "\t 0 & 0 & 0\\\\\n",
       "\t 0 & 0 & 1\\\\\n",
       "\t 0 & 0 & 0\\\\\n",
       "\t 0 & 0 & 0\\\\\n",
       "\t 1 & 1 & 1\\\\\n",
       "\\end{tabular}\n",
       "\n",
       "\\end{description}\n"
      ],
      "text/markdown": [
       "$coyote\n",
       ":   \n",
       "A matrix: 6 × 3 of type int\n",
       "\n",
       "| X1 | X2 | X3 |\n",
       "|---|---|---|\n",
       "| 0 | 0 | 0 |\n",
       "| 0 | 0 | 0 |\n",
       "| 0 | 0 | 0 |\n",
       "| 0 | 0 | 0 |\n",
       "| 0 | 0 | 0 |\n",
       "| 0 | 0 | 0 |\n",
       "\n",
       "\n",
       "$redfox\n",
       ":   \n",
       "A matrix: 6 × 3 of type int\n",
       "\n",
       "| X1 | X2 | X3 |\n",
       "|---|---|---|\n",
       "| 0 | 0 | 0 |\n",
       "| 0 | 0 | 0 |\n",
       "| 0 | 0 | 1 |\n",
       "| 0 | 0 | 0 |\n",
       "| 0 | 0 | 0 |\n",
       "| 1 | 1 | 1 |\n",
       "\n",
       "\n",
       "\n",
       "\n"
      ],
      "text/plain": [
       "$coyote\n",
       "     X1 X2 X3\n",
       "[1,]  0  0  0\n",
       "[2,]  0  0  0\n",
       "[3,]  0  0  0\n",
       "[4,]  0  0  0\n",
       "[5,]  0  0  0\n",
       "[6,]  0  0  0\n",
       "\n",
       "$redfox\n",
       "     X1 X2 X3\n",
       "[1,]  0  0  0\n",
       "[2,]  0  0  0\n",
       "[3,]  0  0  1\n",
       "[4,]  0  0  0\n",
       "[5,]  0  0  0\n",
       "[6,]  1  1  1\n"
      ]
     },
     "metadata": {},
     "output_type": "display_data"
    }
   ],
   "source": [
    "ylist <- MesoCarnivores[c(2:3)]\n",
    "lapply(ylist, head) # look at first few rows"
   ]
  },
  {
   "cell_type": "markdown",
   "metadata": {
    "slideshow": {
     "slide_type": "slide"
    }
   },
   "source": [
    "### Site covariates\n",
    "\n",
    "The last element of the `MesoCarnivores` list is a data frame of site covariates:"
   ]
  },
  {
   "cell_type": "code",
   "execution_count": 6,
   "metadata": {
    "slideshow": {
     "slide_type": "fragment"
    }
   },
   "outputs": [
    {
     "data": {
      "text/html": [
       "<table class=\"dataframe\">\n",
       "<caption>A data.frame: 6 × 6</caption>\n",
       "<thead>\n",
       "\t<tr><th></th><th scope=col>Dist_5km</th><th scope=col>HDens_5km</th><th scope=col>Latitude</th><th scope=col>Longitude</th><th scope=col>People_site</th><th scope=col>Trail</th></tr>\n",
       "\t<tr><th></th><th scope=col>&lt;dbl&gt;</th><th scope=col>&lt;dbl&gt;</th><th scope=col>&lt;dbl&gt;</th><th scope=col>&lt;dbl&gt;</th><th scope=col>&lt;dbl&gt;</th><th scope=col>&lt;int&gt;</th></tr>\n",
       "</thead>\n",
       "<tbody>\n",
       "\t<tr><th scope=row>1</th><td>0.04</td><td>9.345258</td><td>0.3899441</td><td>-0.7723958</td><td>0.857</td><td>1</td></tr>\n",
       "\t<tr><th scope=row>2</th><td>0.03</td><td>9.499197</td><td>0.3899250</td><td>-0.7723920</td><td>0.002</td><td>0</td></tr>\n",
       "\t<tr><th scope=row>3</th><td>0.03</td><td>9.647173</td><td>0.3899111</td><td>-0.7723954</td><td>0.387</td><td>1</td></tr>\n",
       "\t<tr><th scope=row>4</th><td>0.03</td><td>9.598066</td><td>0.3899166</td><td>-0.7723972</td><td>0.003</td><td>0</td></tr>\n",
       "\t<tr><th scope=row>5</th><td>0.03</td><td>9.607825</td><td>0.3899179</td><td>-0.7724004</td><td>0.000</td><td>0</td></tr>\n",
       "\t<tr><th scope=row>6</th><td>0.03</td><td>9.748791</td><td>0.3899058</td><td>-0.7724046</td><td>0.443</td><td>1</td></tr>\n",
       "</tbody>\n",
       "</table>\n"
      ],
      "text/latex": [
       "A data.frame: 6 × 6\n",
       "\\begin{tabular}{r|llllll}\n",
       "  & Dist\\_5km & HDens\\_5km & Latitude & Longitude & People\\_site & Trail\\\\\n",
       "  & <dbl> & <dbl> & <dbl> & <dbl> & <dbl> & <int>\\\\\n",
       "\\hline\n",
       "\t1 & 0.04 & 9.345258 & 0.3899441 & -0.7723958 & 0.857 & 1\\\\\n",
       "\t2 & 0.03 & 9.499197 & 0.3899250 & -0.7723920 & 0.002 & 0\\\\\n",
       "\t3 & 0.03 & 9.647173 & 0.3899111 & -0.7723954 & 0.387 & 1\\\\\n",
       "\t4 & 0.03 & 9.598066 & 0.3899166 & -0.7723972 & 0.003 & 0\\\\\n",
       "\t5 & 0.03 & 9.607825 & 0.3899179 & -0.7724004 & 0.000 & 0\\\\\n",
       "\t6 & 0.03 & 9.748791 & 0.3899058 & -0.7724046 & 0.443 & 1\\\\\n",
       "\\end{tabular}\n"
      ],
      "text/markdown": [
       "\n",
       "A data.frame: 6 × 6\n",
       "\n",
       "| <!--/--> | Dist_5km &lt;dbl&gt; | HDens_5km &lt;dbl&gt; | Latitude &lt;dbl&gt; | Longitude &lt;dbl&gt; | People_site &lt;dbl&gt; | Trail &lt;int&gt; |\n",
       "|---|---|---|---|---|---|---|\n",
       "| 1 | 0.04 | 9.345258 | 0.3899441 | -0.7723958 | 0.857 | 1 |\n",
       "| 2 | 0.03 | 9.499197 | 0.3899250 | -0.7723920 | 0.002 | 0 |\n",
       "| 3 | 0.03 | 9.647173 | 0.3899111 | -0.7723954 | 0.387 | 1 |\n",
       "| 4 | 0.03 | 9.598066 | 0.3899166 | -0.7723972 | 0.003 | 0 |\n",
       "| 5 | 0.03 | 9.607825 | 0.3899179 | -0.7724004 | 0.000 | 0 |\n",
       "| 6 | 0.03 | 9.748791 | 0.3899058 | -0.7724046 | 0.443 | 1 |\n",
       "\n"
      ],
      "text/plain": [
       "  Dist_5km HDens_5km Latitude  Longitude  People_site Trail\n",
       "1 0.04     9.345258  0.3899441 -0.7723958 0.857       1    \n",
       "2 0.03     9.499197  0.3899250 -0.7723920 0.002       0    \n",
       "3 0.03     9.647173  0.3899111 -0.7723954 0.387       1    \n",
       "4 0.03     9.598066  0.3899166 -0.7723972 0.003       0    \n",
       "5 0.03     9.607825  0.3899179 -0.7724004 0.000       0    \n",
       "6 0.03     9.748791  0.3899058 -0.7724046 0.443       1    "
      ]
     },
     "metadata": {},
     "output_type": "display_data"
    }
   ],
   "source": [
    "site_covs <- MesoCarnivores$sitecovs\n",
    "head(site_covs)"
   ]
  },
  {
   "cell_type": "markdown",
   "metadata": {
    "slideshow": {
     "slide_type": "slide"
    }
   },
   "source": [
    "### Construct the unmarked frame"
   ]
  },
  {
   "cell_type": "code",
   "execution_count": 7,
   "metadata": {
    "scrolled": true,
    "slideshow": {
     "slide_type": "fragment"
    }
   },
   "outputs": [
    {
     "data": {
      "text/plain": [
       "Data frame representation of unmarkedFrame object.\n",
       "Only showing observation matrix for species 1.\n",
       "   y.1 y.2 y.3 Dist_5km HDens_5km  Latitude  Longitude People_site Trail\n",
       "1    0   0   0     0.04  9.345258 0.3899441 -0.7723958       0.857     1\n",
       "2    0   0   0     0.03  9.499197 0.3899250 -0.7723920       0.002     0\n",
       "3    0   0   0     0.03  9.647173 0.3899111 -0.7723954       0.387     1\n",
       "4    0   0   0     0.03  9.598066 0.3899166 -0.7723972       0.003     0\n",
       "5    0   0   0     0.03  9.607825 0.3899179 -0.7724004       0.000     0\n",
       "6    0   0   0     0.03  9.748791 0.3899058 -0.7724046       0.443     1\n",
       "7    0   0   0     0.03  9.715359 0.3899097 -0.7724065       0.000     0\n",
       "8    0   0   0     0.03  9.685091 0.3899135 -0.7724103       0.000     0\n",
       "9    0   0   0     0.04  9.051558 0.3899955 -0.7724561       0.002     0\n",
       "10   0   0   0     0.04  9.031836 0.3899971 -0.7724504       0.000     0"
      ]
     },
     "metadata": {},
     "output_type": "display_data"
    }
   ],
   "source": [
    "umf <- unmarkedFrameOccuMulti(y=ylist, siteCovs=site_covs)\n",
    "head(umf)"
   ]
  },
  {
   "cell_type": "code",
   "execution_count": 8,
   "metadata": {
    "slideshow": {
     "slide_type": "fragment"
    }
   },
   "outputs": [
    {
     "name": "stdout",
     "output_type": "stream",
     "text": [
      "unmarkedFrame Object\n",
      "\n",
      "1437 sites\n",
      "2 species: coyote redfox \n",
      "Maximum number of observations per site: 3 \n",
      "Mean number of observations per site:\n",
      "coyote: 3  redfox: 3  \n",
      "Sites with at least one detection:\n",
      "coyote: 401  redfox: 161  \n",
      "Tabulation of y observations:\n",
      "coyote:\n",
      "   0    1 \n",
      "3685  626 \n",
      "redfox:\n",
      "   0    1 \n",
      "4054  257 \n",
      "\n",
      "Site-level covariates:\n",
      "    Dist_5km         HDens_5km           Latitude        Longitude      \n",
      " Min.   :0.00000   Min.   :  0.0000   Min.   :0.3454   Min.   :-0.8539  \n",
      " 1st Qu.:0.00000   1st Qu.:  0.2073   1st Qu.:0.3567   1st Qu.:-0.8009  \n",
      " Median :0.00000   Median :  0.7310   Median :0.3753   Median :-0.7940  \n",
      " Mean   :0.01419   Mean   :  8.4532   Mean   :0.3726   Mean   :-0.7969  \n",
      " 3rd Qu.:0.02000   3rd Qu.:  3.0219   3rd Qu.:0.3863   3rd Qu.:-0.7801  \n",
      " Max.   :0.13000   Max.   :186.6694   Max.   :0.3967   Max.   :-0.7690  \n",
      "  People_site          Trail       \n",
      " Min.   :0.00000   Min.   :0.0000  \n",
      " 1st Qu.:0.00000   1st Qu.:0.0000  \n",
      " Median :0.00000   Median :0.0000  \n",
      " Mean   :0.05807   Mean   :0.3229  \n",
      " 3rd Qu.:0.00900   3rd Qu.:1.0000  \n",
      " Max.   :2.44100   Max.   :1.0000  \n"
     ]
    }
   ],
   "source": [
    "summary(umf)"
   ]
  },
  {
   "cell_type": "markdown",
   "metadata": {
    "slideshow": {
     "slide_type": "slide"
    }
   },
   "source": [
    "## Set up the formulas"
   ]
  },
  {
   "cell_type": "markdown",
   "metadata": {
    "slideshow": {
     "slide_type": "fragment"
    }
   },
   "source": [
    "![](occuRNMulti.png)"
   ]
  },
  {
   "cell_type": "markdown",
   "metadata": {
    "slideshow": {
     "slide_type": "slide"
    }
   },
   "source": [
    "### `stateformulas`\n",
    "\n",
    "A named list with one element per species.\n",
    "\n",
    "The elements should be in order of dominance, starting with the top-level dominant species.\n",
    "\n",
    "**For dominant species:**\n",
    "\n",
    "The list element contains a single formula for the abundance model.\n",
    "\n",
    "```r\n",
    "coyote = ~1\n",
    "```"
   ]
  },
  {
   "cell_type": "markdown",
   "metadata": {
    "slideshow": {
     "slide_type": "fragment"
    }
   },
   "source": [
    "$$\\mathrm{log}(\\lambda_{coy}) = \\beta_{0,coy}$$"
   ]
  },
  {
   "cell_type": "markdown",
   "metadata": {
    "slideshow": {
     "slide_type": "slide"
    }
   },
   "source": [
    "\n",
    "**For subordinate species:**\n",
    "\n",
    "The list element is itself a list of multiple formulas.\n",
    "\n",
    "* One formula for the part of the linear predictor not related to the dominant species\n",
    "* One formula representing the part of the linear predictor corresponding to each dominant species\n",
    "\n",
    "```r\n",
    "redfox = list(~1, coyote = ~1)\n",
    "```"
   ]
  },
  {
   "cell_type": "markdown",
   "metadata": {
    "slideshow": {
     "slide_type": "fragment"
    }
   },
   "source": [
    "$$\\mathrm{log}(\\lambda_{fox}) = \\beta_{0,fox} + (\\gamma_{0,coy->fox}) \\cdot N_{coy}$$"
   ]
  },
  {
   "cell_type": "markdown",
   "metadata": {
    "slideshow": {
     "slide_type": "fragment"
    }
   },
   "source": [
    "With covariates:\n",
    "\n",
    "```r\n",
    "redfox = list(~x, coyote = ~z)\n",
    "```\n",
    "\n",
    "$$\\mathrm{log}(\\lambda_{fox}) = \\beta_{0,fox} + \\beta_{x,fox} + (\\gamma_{0,coy->fox} + \\gamma_{z,coy->fox} \\cdot z) \\cdot N_{coy}$$"
   ]
  },
  {
   "cell_type": "code",
   "execution_count": 12,
   "metadata": {
    "slideshow": {
     "slide_type": "slide"
    }
   },
   "outputs": [],
   "source": [
    "sf <- list(coyote = ~1,\n",
    "           redfox = list(~1, coyote = ~1))"
   ]
  },
  {
   "cell_type": "markdown",
   "metadata": {
    "slideshow": {
     "slide_type": "slide"
    }
   },
   "source": [
    "### `detformulas`\n",
    "\n",
    "This one is easier, there is just one formula per species, so there should be 2 total.\n",
    "\n",
    "Intercept-only models for both species:"
   ]
  },
  {
   "cell_type": "code",
   "execution_count": 11,
   "metadata": {
    "slideshow": {
     "slide_type": "fragment"
    }
   },
   "outputs": [
    {
     "data": {
      "text/plain": [
       "$coyote\n",
       "~1\n",
       "\n",
       "$redfox\n",
       "~1\n"
      ]
     },
     "metadata": {},
     "output_type": "display_data"
    }
   ],
   "source": [
    "df <- list(coyote = ~1, redfox = ~1)\n",
    "df"
   ]
  },
  {
   "cell_type": "markdown",
   "metadata": {
    "slideshow": {
     "slide_type": "slide"
    }
   },
   "source": [
    "### `modelOccupancy`\n",
    "\n",
    "A character vector of species names for which you want to model occupancy rather than abundance (must be subordinate species)"
   ]
  },
  {
   "cell_type": "markdown",
   "metadata": {
    "slideshow": {
     "slide_type": "fragment"
    }
   },
   "source": [
    "```r\n",
    "modelOccupancy = 'redfox'\n",
    "```"
   ]
  },
  {
   "cell_type": "markdown",
   "metadata": {
    "slideshow": {
     "slide_type": "slide"
    },
    "tags": []
   },
   "source": [
    "## Run `occuRNMulti`"
   ]
  },
  {
   "cell_type": "markdown",
   "metadata": {
    "slideshow": {
     "slide_type": "fragment"
    }
   },
   "source": [
    "We now have all the pieces we need (`unmarkedFrameOccuMulti`, `stateformulas`, `detformulas`) needed to run a model."
   ]
  },
  {
   "cell_type": "code",
   "execution_count": 13,
   "metadata": {
    "slideshow": {
     "slide_type": "fragment"
    }
   },
   "outputs": [
    {
     "name": "stdout",
     "output_type": "stream",
     "text": [
      "\n",
      "Call:\n",
      "occuRNMulti(detformulas = df, stateformulas = sf, data = umf, \n",
      "    modelOccupancy = \"redfox\")\n",
      "\n",
      "Abundance (log-scale):\n",
      " Estimate     SE     z  P(>|z|)\n",
      "   -0.773 0.0683 -11.3 9.97e-30\n",
      "\n",
      "Occupancy (logit-scale):\n",
      "                            Estimate    SE      z  P(>|z|)\n",
      "[redfox] (Intercept)          -2.326 0.144 -16.15 1.15e-58\n",
      "[redfox:coyote] (Intercept)    0.798 0.148   5.38 7.54e-08\n",
      "\n",
      "Detection (logit-scale):\n",
      "                     Estimate     SE     z  P(>|z|)\n",
      "[coyote] (Intercept)   -0.654 0.0946 -6.91 4.91e-12\n",
      "[redfox] (Intercept)   -0.251 0.1181 -2.13 3.34e-02\n",
      "\n",
      "AIC: 4841.649 \n",
      "Number of sites: 1437\n",
      "optim convergence code: 0\n",
      "optim iterations: 34 \n",
      "Bootstrap iterations: 0 \n",
      "\n"
     ]
    }
   ],
   "source": [
    "mod_null <- occuRNMulti(detformulas=df, stateformulas=sf, data=umf, modelOccupancy=\"redfox\")\n",
    "summary(mod_null)"
   ]
  },
  {
   "cell_type": "markdown",
   "metadata": {
    "slideshow": {
     "slide_type": "slide"
    }
   },
   "source": [
    "## Model with covariates\n",
    "\n",
    "* Effects of disturbance, housing density, longitude, and latitude on both species\n",
    "* Effect of housing density on coyote -> red fox interaction\n",
    "* Effect of trail on both detection models"
   ]
  },
  {
   "cell_type": "code",
   "execution_count": 14,
   "metadata": {
    "slideshow": {
     "slide_type": "fragment"
    }
   },
   "outputs": [],
   "source": [
    "both <- ~scale(Dist_5km) + scale(Longitude) + scale(Latitude) + scale(HDens_5km)\n",
    "\n",
    "sf <- list(\n",
    "  coyote = both,\n",
    "  redfox = list(both, coyote = ~scale(HDens_5km))\n",
    ")"
   ]
  },
  {
   "cell_type": "code",
   "execution_count": 15,
   "metadata": {
    "slideshow": {
     "slide_type": "fragment"
    }
   },
   "outputs": [],
   "source": [
    "df <- list(coyote = ~Trail, redfox = ~Trail)"
   ]
  },
  {
   "cell_type": "code",
   "execution_count": 16,
   "metadata": {
    "slideshow": {
     "slide_type": "slide"
    }
   },
   "outputs": [
    {
     "name": "stdout",
     "output_type": "stream",
     "text": [
      "\n",
      "Call:\n",
      "occuRNMulti(detformulas = df, stateformulas = sf, data = umf, \n",
      "    modelOccupancy = \"redfox\", threads = 3)\n",
      "\n",
      "Abundance (log-scale):\n",
      "                          Estimate     SE      z  P(>|z|)\n",
      "[coyote] (Intercept)       -0.1373 0.0870 -1.578 1.14e-01\n",
      "[coyote] scale(Dist_5km)   -0.1181 0.0563 -2.099 3.58e-02\n",
      "[coyote] scale(Longitude)  -0.3209 0.0688 -4.664 3.10e-06\n",
      "[coyote] scale(Latitude)    0.0182 0.0645  0.281 7.78e-01\n",
      "[coyote] scale(HDens_5km)   0.1678 0.0431  3.898 9.71e-05\n",
      "\n",
      "Occupancy (logit-scale):\n",
      "                                 Estimate    SE      z  P(>|z|)\n",
      "[redfox] (Intercept)               -3.960 0.468 -8.464 2.58e-17\n",
      "[redfox] scale(Dist_5km)            1.561 0.295  5.297 1.18e-07\n",
      "[redfox] scale(Longitude)           3.220 0.520  6.190 6.02e-10\n",
      "[redfox] scale(Latitude)            0.659 0.307  2.142 3.22e-02\n",
      "[redfox] scale(HDens_5km)           0.184 0.376  0.491 6.23e-01\n",
      "[redfox:coyote] (Intercept)         1.055 0.276  3.819 1.34e-04\n",
      "[redfox:coyote] scale(HDens_5km)    0.249 0.506  0.492 6.23e-01\n",
      "\n",
      "Detection (logit-scale):\n",
      "                     Estimate    SE      z  P(>|z|)\n",
      "[coyote] (Intercept)    -2.47 0.126 -19.56 3.16e-85\n",
      "[coyote] Trail           2.09 0.123  17.05 3.36e-65\n",
      "[redfox] (Intercept)    -1.62 0.153 -10.55 5.06e-26\n",
      "[redfox] Trail           1.89 0.195   9.71 2.64e-22\n",
      "\n",
      "AIC: 4226.147 \n",
      "Number of sites: 1437\n",
      "optim convergence code: 0\n",
      "optim iterations: 85 \n",
      "Bootstrap iterations: 0 \n",
      "\n"
     ]
    }
   ],
   "source": [
    "mod_covs <- occuRNMulti(detformulas=df, stateformulas=sf, data=umf, modelOccupancy=\"redfox\", threads=3)\n",
    "summary(mod_covs)"
   ]
  },
  {
   "cell_type": "markdown",
   "metadata": {
    "slideshow": {
     "slide_type": "slide"
    }
   },
   "source": [
    "### Comparison with `NIMBLE`\n",
    "\n",
    "Read in saved results from the same model fit with `NIMBLE`:"
   ]
  },
  {
   "cell_type": "code",
   "execution_count": 17,
   "metadata": {
    "slideshow": {
     "slide_type": "fragment"
    }
   },
   "outputs": [
    {
     "data": {
      "text/html": [
       "<table class=\"dataframe\">\n",
       "<caption>A data.frame: 16 × 3</caption>\n",
       "<thead>\n",
       "\t<tr><th></th><th scope=col>est</th><th scope=col>low</th><th scope=col>up</th></tr>\n",
       "\t<tr><th></th><th scope=col>&lt;dbl&gt;</th><th scope=col>&lt;dbl&gt;</th><th scope=col>&lt;dbl&gt;</th></tr>\n",
       "</thead>\n",
       "<tbody>\n",
       "\t<tr><th scope=row>beta0D</th><td>-0.19891554</td><td>-0.35876383</td><td>-0.03462651</td></tr>\n",
       "\t<tr><th scope=row>betaD[1]</th><td>-0.12064900</td><td>-0.23338144</td><td>-0.01241478</td></tr>\n",
       "\t<tr><th scope=row>betaD[2]</th><td>-0.31869573</td><td>-0.45214174</td><td>-0.18109203</td></tr>\n",
       "\t<tr><th scope=row>betaD[3]</th><td> 0.01945794</td><td>-0.10578639</td><td> 0.14878109</td></tr>\n",
       "\t<tr><th scope=row>betaD[4]</th><td> 0.16373145</td><td> 0.07422315</td><td> 0.24548744</td></tr>\n",
       "\t<tr><th scope=row>beta0S</th><td>-3.83987328</td><td>-4.81353742</td><td>-3.02072568</td></tr>\n",
       "\t<tr><th scope=row>betaS[1]</th><td> 1.49803540</td><td> 0.96853261</td><td> 2.08120039</td></tr>\n",
       "\t<tr><th scope=row>betaS[2]</th><td> 3.07480361</td><td> 2.14995026</td><td> 4.14798949</td></tr>\n",
       "\t<tr><th scope=row>betaS[3]</th><td> 0.72436867</td><td> 0.12368045</td><td> 1.37402932</td></tr>\n",
       "\t<tr><th scope=row>betaS[4]</th><td> 0.35438753</td><td>-0.87194922</td><td> 2.44753237</td></tr>\n",
       "\t<tr><th scope=row>gamma0DS</th><td> 1.14525009</td><td> 0.61438734</td><td> 1.77392943</td></tr>\n",
       "\t<tr><th scope=row>gamma1DS</th><td> 0.68510060</td><td>-0.51282978</td><td> 2.38316743</td></tr>\n",
       "\t<tr><th scope=row>alpha0D</th><td>-2.39803826</td><td>-2.64000423</td><td>-2.15428190</td></tr>\n",
       "\t<tr><th scope=row>alphaD[1]</th><td> 2.07543167</td><td> 1.83109810</td><td> 2.31956329</td></tr>\n",
       "\t<tr><th scope=row>alpha0S</th><td>-1.62569103</td><td>-1.92538625</td><td>-1.31426750</td></tr>\n",
       "\t<tr><th scope=row>alphaS[1]</th><td> 1.88266986</td><td> 1.50020175</td><td> 2.26286877</td></tr>\n",
       "</tbody>\n",
       "</table>\n"
      ],
      "text/latex": [
       "A data.frame: 16 × 3\n",
       "\\begin{tabular}{r|lll}\n",
       "  & est & low & up\\\\\n",
       "  & <dbl> & <dbl> & <dbl>\\\\\n",
       "\\hline\n",
       "\tbeta0D & -0.19891554 & -0.35876383 & -0.03462651\\\\\n",
       "\tbetaD{[}1{]} & -0.12064900 & -0.23338144 & -0.01241478\\\\\n",
       "\tbetaD{[}2{]} & -0.31869573 & -0.45214174 & -0.18109203\\\\\n",
       "\tbetaD{[}3{]} &  0.01945794 & -0.10578639 &  0.14878109\\\\\n",
       "\tbetaD{[}4{]} &  0.16373145 &  0.07422315 &  0.24548744\\\\\n",
       "\tbeta0S & -3.83987328 & -4.81353742 & -3.02072568\\\\\n",
       "\tbetaS{[}1{]} &  1.49803540 &  0.96853261 &  2.08120039\\\\\n",
       "\tbetaS{[}2{]} &  3.07480361 &  2.14995026 &  4.14798949\\\\\n",
       "\tbetaS{[}3{]} &  0.72436867 &  0.12368045 &  1.37402932\\\\\n",
       "\tbetaS{[}4{]} &  0.35438753 & -0.87194922 &  2.44753237\\\\\n",
       "\tgamma0DS &  1.14525009 &  0.61438734 &  1.77392943\\\\\n",
       "\tgamma1DS &  0.68510060 & -0.51282978 &  2.38316743\\\\\n",
       "\talpha0D & -2.39803826 & -2.64000423 & -2.15428190\\\\\n",
       "\talphaD{[}1{]} &  2.07543167 &  1.83109810 &  2.31956329\\\\\n",
       "\talpha0S & -1.62569103 & -1.92538625 & -1.31426750\\\\\n",
       "\talphaS{[}1{]} &  1.88266986 &  1.50020175 &  2.26286877\\\\\n",
       "\\end{tabular}\n"
      ],
      "text/markdown": [
       "\n",
       "A data.frame: 16 × 3\n",
       "\n",
       "| <!--/--> | est &lt;dbl&gt; | low &lt;dbl&gt; | up &lt;dbl&gt; |\n",
       "|---|---|---|---|\n",
       "| beta0D | -0.19891554 | -0.35876383 | -0.03462651 |\n",
       "| betaD[1] | -0.12064900 | -0.23338144 | -0.01241478 |\n",
       "| betaD[2] | -0.31869573 | -0.45214174 | -0.18109203 |\n",
       "| betaD[3] |  0.01945794 | -0.10578639 |  0.14878109 |\n",
       "| betaD[4] |  0.16373145 |  0.07422315 |  0.24548744 |\n",
       "| beta0S | -3.83987328 | -4.81353742 | -3.02072568 |\n",
       "| betaS[1] |  1.49803540 |  0.96853261 |  2.08120039 |\n",
       "| betaS[2] |  3.07480361 |  2.14995026 |  4.14798949 |\n",
       "| betaS[3] |  0.72436867 |  0.12368045 |  1.37402932 |\n",
       "| betaS[4] |  0.35438753 | -0.87194922 |  2.44753237 |\n",
       "| gamma0DS |  1.14525009 |  0.61438734 |  1.77392943 |\n",
       "| gamma1DS |  0.68510060 | -0.51282978 |  2.38316743 |\n",
       "| alpha0D | -2.39803826 | -2.64000423 | -2.15428190 |\n",
       "| alphaD[1] |  2.07543167 |  1.83109810 |  2.31956329 |\n",
       "| alpha0S | -1.62569103 | -1.92538625 | -1.31426750 |\n",
       "| alphaS[1] |  1.88266986 |  1.50020175 |  2.26286877 |\n",
       "\n"
      ],
      "text/plain": [
       "          est         low         up         \n",
       "beta0D    -0.19891554 -0.35876383 -0.03462651\n",
       "betaD[1]  -0.12064900 -0.23338144 -0.01241478\n",
       "betaD[2]  -0.31869573 -0.45214174 -0.18109203\n",
       "betaD[3]   0.01945794 -0.10578639  0.14878109\n",
       "betaD[4]   0.16373145  0.07422315  0.24548744\n",
       "beta0S    -3.83987328 -4.81353742 -3.02072568\n",
       "betaS[1]   1.49803540  0.96853261  2.08120039\n",
       "betaS[2]   3.07480361  2.14995026  4.14798949\n",
       "betaS[3]   0.72436867  0.12368045  1.37402932\n",
       "betaS[4]   0.35438753 -0.87194922  2.44753237\n",
       "gamma0DS   1.14525009  0.61438734  1.77392943\n",
       "gamma1DS   0.68510060 -0.51282978  2.38316743\n",
       "alpha0D   -2.39803826 -2.64000423 -2.15428190\n",
       "alphaD[1]  2.07543167  1.83109810  2.31956329\n",
       "alpha0S   -1.62569103 -1.92538625 -1.31426750\n",
       "alphaS[1]  1.88266986  1.50020175  2.26286877"
      ]
     },
     "metadata": {},
     "output_type": "display_data"
    }
   ],
   "source": [
    "(nim_sum <- as.data.frame(readRDS('nimble_summary.Rds')))"
   ]
  },
  {
   "cell_type": "code",
   "execution_count": 18,
   "metadata": {
    "slideshow": {
     "slide_type": "fragment"
    }
   },
   "outputs": [],
   "source": [
    "nim_sum$type <- \"nimble\"\n",
    "\n",
    "unm_sum <- data.frame(est = coef(mod_covs),\n",
    "                      low = coef(mod_covs) - 1.96 * SE(mod_covs),\n",
    "                      up = coef(mod_covs) + 1.96 * SE(mod_covs),\n",
    "                      type = \"unmarked\")\n",
    "\n",
    "all_sum <- rbind(nim_sum, unm_sum)\n",
    "all_sum$par <- rownames(nim_sum)"
   ]
  },
  {
   "cell_type": "code",
   "execution_count": 19,
   "metadata": {
    "slideshow": {
     "slide_type": "slide"
    }
   },
   "outputs": [
    {
     "data": {
      "image/png": "[encoded data removed]",
      "text/plain": [
       "plot without title"
      ]
     },
     "metadata": {
      "image/png": {
       "height": 600,
       "width": 900
      }
     },
     "output_type": "display_data"
    }
   ],
   "source": [
    "library(ggplot2)\n",
    "options(repr.plot.width=15, repr.plot.height=10)\n",
    "pos <- position_dodge(0.5)\n",
    "\n",
    "ggplot(data = all_sum, aes(x=par, col=type)) +\n",
    "  geom_errorbar(aes(ymin=low, ymax=up), width=0.2, position=pos) +\n",
    "  geom_point(aes(y=est), position=pos) +\n",
    "  theme_bw(base_size=16) +\n",
    "  labs(col=element_blank(), x=element_blank(), y=\"Estimate and 95% CI\") +\n",
    "  theme(panel.grid = element_blank(), \n",
    "        legend.position.inside=c(0.8,0.2), legend.text=element_text(size=20))"
   ]
  },
  {
   "cell_type": "markdown",
   "metadata": {
    "slideshow": {
     "slide_type": "slide"
    }
   },
   "source": [
    "## Plotting effect of `Hdens_5km`\n",
    "\n",
    "Make a sequence of values and plug into a `newdata` data frame."
   ]
  },
  {
   "cell_type": "code",
   "execution_count": 20,
   "metadata": {
    "slideshow": {
     "slide_type": "fragment"
    }
   },
   "outputs": [
    {
     "data": {
      "text/html": [
       "<table class=\"dataframe\">\n",
       "<caption>A data.frame: 6 × 5</caption>\n",
       "<thead>\n",
       "\t<tr><th></th><th scope=col>HDens_5km</th><th scope=col>Dist_5km</th><th scope=col>Longitude</th><th scope=col>Latitude</th><th scope=col>Trail</th></tr>\n",
       "\t<tr><th></th><th scope=col>&lt;dbl&gt;</th><th scope=col>&lt;dbl&gt;</th><th scope=col>&lt;dbl&gt;</th><th scope=col>&lt;dbl&gt;</th><th scope=col>&lt;dbl&gt;</th></tr>\n",
       "</thead>\n",
       "<tbody>\n",
       "\t<tr><th scope=row>1</th><td>0.000000</td><td>0.01418928</td><td>-0.796942</td><td>0.372565</td><td>0</td></tr>\n",
       "\t<tr><th scope=row>2</th><td>1.885550</td><td>0.01418928</td><td>-0.796942</td><td>0.372565</td><td>0</td></tr>\n",
       "\t<tr><th scope=row>3</th><td>3.771100</td><td>0.01418928</td><td>-0.796942</td><td>0.372565</td><td>0</td></tr>\n",
       "\t<tr><th scope=row>4</th><td>5.656650</td><td>0.01418928</td><td>-0.796942</td><td>0.372565</td><td>0</td></tr>\n",
       "\t<tr><th scope=row>5</th><td>7.542199</td><td>0.01418928</td><td>-0.796942</td><td>0.372565</td><td>0</td></tr>\n",
       "\t<tr><th scope=row>6</th><td>9.427749</td><td>0.01418928</td><td>-0.796942</td><td>0.372565</td><td>0</td></tr>\n",
       "</tbody>\n",
       "</table>\n"
      ],
      "text/latex": [
       "A data.frame: 6 × 5\n",
       "\\begin{tabular}{r|lllll}\n",
       "  & HDens\\_5km & Dist\\_5km & Longitude & Latitude & Trail\\\\\n",
       "  & <dbl> & <dbl> & <dbl> & <dbl> & <dbl>\\\\\n",
       "\\hline\n",
       "\t1 & 0.000000 & 0.01418928 & -0.796942 & 0.372565 & 0\\\\\n",
       "\t2 & 1.885550 & 0.01418928 & -0.796942 & 0.372565 & 0\\\\\n",
       "\t3 & 3.771100 & 0.01418928 & -0.796942 & 0.372565 & 0\\\\\n",
       "\t4 & 5.656650 & 0.01418928 & -0.796942 & 0.372565 & 0\\\\\n",
       "\t5 & 7.542199 & 0.01418928 & -0.796942 & 0.372565 & 0\\\\\n",
       "\t6 & 9.427749 & 0.01418928 & -0.796942 & 0.372565 & 0\\\\\n",
       "\\end{tabular}\n"
      ],
      "text/markdown": [
       "\n",
       "A data.frame: 6 × 5\n",
       "\n",
       "| <!--/--> | HDens_5km &lt;dbl&gt; | Dist_5km &lt;dbl&gt; | Longitude &lt;dbl&gt; | Latitude &lt;dbl&gt; | Trail &lt;dbl&gt; |\n",
       "|---|---|---|---|---|---|\n",
       "| 1 | 0.000000 | 0.01418928 | -0.796942 | 0.372565 | 0 |\n",
       "| 2 | 1.885550 | 0.01418928 | -0.796942 | 0.372565 | 0 |\n",
       "| 3 | 3.771100 | 0.01418928 | -0.796942 | 0.372565 | 0 |\n",
       "| 4 | 5.656650 | 0.01418928 | -0.796942 | 0.372565 | 0 |\n",
       "| 5 | 7.542199 | 0.01418928 | -0.796942 | 0.372565 | 0 |\n",
       "| 6 | 9.427749 | 0.01418928 | -0.796942 | 0.372565 | 0 |\n",
       "\n"
      ],
      "text/plain": [
       "  HDens_5km Dist_5km   Longitude Latitude Trail\n",
       "1 0.000000  0.01418928 -0.796942 0.372565 0    \n",
       "2 1.885550  0.01418928 -0.796942 0.372565 0    \n",
       "3 3.771100  0.01418928 -0.796942 0.372565 0    \n",
       "4 5.656650  0.01418928 -0.796942 0.372565 0    \n",
       "5 7.542199  0.01418928 -0.796942 0.372565 0    \n",
       "6 9.427749  0.01418928 -0.796942 0.372565 0    "
      ]
     },
     "metadata": {},
     "output_type": "display_data"
    }
   ],
   "source": [
    "hdens_rng <- range(siteCovs(umf)$HDens_5km)\n",
    "hdens_seq <- seq(hdens_rng[1], hdens_rng[2], length.out=100)\n",
    "\n",
    "nd <- data.frame(HDens_5km = hdens_seq, \n",
    "                 Dist_5km = mean(siteCovs(umf)$Dist_5km),\n",
    "                 Longitude = mean(siteCovs(umf)$Longitude),\n",
    "                 Latitude = mean(siteCovs(umf)$Latitude),\n",
    "                 Trail = 0)\n",
    "\n",
    "head(nd)"
   ]
  },
  {
   "cell_type": "markdown",
   "metadata": {
    "slideshow": {
     "slide_type": "slide"
    }
   },
   "source": [
    "Run `predict`. It generates a list of dataframes, one per species."
   ]
  },
  {
   "cell_type": "code",
   "execution_count": 21,
   "metadata": {
    "slideshow": {
     "slide_type": "fragment"
    }
   },
   "outputs": [
    {
     "name": "stderr",
     "output_type": "stream",
     "text": [
      "Bootstrapping confidence intervals with 100 samples\n",
      "\n"
     ]
    },
    {
     "data": {
      "text/html": [
       "<dl>\n",
       "\t<dt>$coyote</dt>\n",
       "\t\t<dd><table class=\"dataframe\">\n",
       "<caption>A data.frame: 6 × 4</caption>\n",
       "<thead>\n",
       "\t<tr><th></th><th scope=col>Predicted</th><th scope=col>SE</th><th scope=col>upper</th><th scope=col>lower</th></tr>\n",
       "\t<tr><th></th><th scope=col>&lt;dbl&gt;</th><th scope=col>&lt;dbl&gt;</th><th scope=col>&lt;dbl&gt;</th><th scope=col>&lt;dbl&gt;</th></tr>\n",
       "</thead>\n",
       "<tbody>\n",
       "\t<tr><th scope=row>95</th><td>2.353946</td><td>0.8266677</td><td>1.312493</td><td>4.355653</td></tr>\n",
       "\t<tr><th scope=row>96</th><td>2.380214</td><td>0.8457662</td><td>1.319075</td><td>4.435659</td></tr>\n",
       "\t<tr><th scope=row>97</th><td>2.406775</td><td>0.8652509</td><td>1.325690</td><td>4.517138</td></tr>\n",
       "\t<tr><th scope=row>98</th><td>2.433633</td><td>0.8851290</td><td>1.332338</td><td>4.600117</td></tr>\n",
       "\t<tr><th scope=row>99</th><td>2.460790</td><td>0.9054082</td><td>1.339020</td><td>4.684624</td></tr>\n",
       "\t<tr><th scope=row>100</th><td>2.488250</td><td>0.9260963</td><td>1.345735</td><td>4.770687</td></tr>\n",
       "</tbody>\n",
       "</table>\n",
       "</dd>\n",
       "\t<dt>$redfox</dt>\n",
       "\t\t<dd><table class=\"dataframe\">\n",
       "<caption>A data.frame: 6 × 4</caption>\n",
       "<thead>\n",
       "\t<tr><th></th><th scope=col>Predicted</th><th scope=col>SE</th><th scope=col>upper</th><th scope=col>lower</th></tr>\n",
       "\t<tr><th></th><th scope=col>&lt;dbl&gt;</th><th scope=col>&lt;dbl&gt;</th><th scope=col>&lt;dbl&gt;</th><th scope=col>&lt;dbl&gt;</th></tr>\n",
       "</thead>\n",
       "<tbody>\n",
       "\t<tr><th scope=row>95</th><td>0.9561608</td><td>0.3587184</td><td>0.002652104</td><td>0.9999995</td></tr>\n",
       "\t<tr><th scope=row>96</th><td>0.9608406</td><td>0.3586794</td><td>0.002350444</td><td>0.9999997</td></tr>\n",
       "\t<tr><th scope=row>97</th><td>0.9650935</td><td>0.3586617</td><td>0.002076209</td><td>0.9999998</td></tr>\n",
       "\t<tr><th scope=row>98</th><td>0.9689488</td><td>0.3586670</td><td>0.001827812</td><td>0.9999999</td></tr>\n",
       "\t<tr><th scope=row>99</th><td>0.9724351</td><td>0.3586962</td><td>0.001603647</td><td>0.9999999</td></tr>\n",
       "\t<tr><th scope=row>100</th><td>0.9755800</td><td>0.3587497</td><td>0.001402105</td><td>0.9999999</td></tr>\n",
       "</tbody>\n",
       "</table>\n",
       "</dd>\n",
       "</dl>\n"
      ],
      "text/latex": [
       "\\begin{description}\n",
       "\\item[\\$coyote] A data.frame: 6 × 4\n",
       "\\begin{tabular}{r|llll}\n",
       "  & Predicted & SE & upper & lower\\\\\n",
       "  & <dbl> & <dbl> & <dbl> & <dbl>\\\\\n",
       "\\hline\n",
       "\t95 & 2.353946 & 0.8266677 & 1.312493 & 4.355653\\\\\n",
       "\t96 & 2.380214 & 0.8457662 & 1.319075 & 4.435659\\\\\n",
       "\t97 & 2.406775 & 0.8652509 & 1.325690 & 4.517138\\\\\n",
       "\t98 & 2.433633 & 0.8851290 & 1.332338 & 4.600117\\\\\n",
       "\t99 & 2.460790 & 0.9054082 & 1.339020 & 4.684624\\\\\n",
       "\t100 & 2.488250 & 0.9260963 & 1.345735 & 4.770687\\\\\n",
       "\\end{tabular}\n",
       "\n",
       "\\item[\\$redfox] A data.frame: 6 × 4\n",
       "\\begin{tabular}{r|llll}\n",
       "  & Predicted & SE & upper & lower\\\\\n",
       "  & <dbl> & <dbl> & <dbl> & <dbl>\\\\\n",
       "\\hline\n",
       "\t95 & 0.9561608 & 0.3587184 & 0.002652104 & 0.9999995\\\\\n",
       "\t96 & 0.9608406 & 0.3586794 & 0.002350444 & 0.9999997\\\\\n",
       "\t97 & 0.9650935 & 0.3586617 & 0.002076209 & 0.9999998\\\\\n",
       "\t98 & 0.9689488 & 0.3586670 & 0.001827812 & 0.9999999\\\\\n",
       "\t99 & 0.9724351 & 0.3586962 & 0.001603647 & 0.9999999\\\\\n",
       "\t100 & 0.9755800 & 0.3587497 & 0.001402105 & 0.9999999\\\\\n",
       "\\end{tabular}\n",
       "\n",
       "\\end{description}\n"
      ],
      "text/markdown": [
       "$coyote\n",
       ":   \n",
       "A data.frame: 6 × 4\n",
       "\n",
       "| <!--/--> | Predicted &lt;dbl&gt; | SE &lt;dbl&gt; | upper &lt;dbl&gt; | lower &lt;dbl&gt; |\n",
       "|---|---|---|---|---|\n",
       "| 95 | 2.353946 | 0.8266677 | 1.312493 | 4.355653 |\n",
       "| 96 | 2.380214 | 0.8457662 | 1.319075 | 4.435659 |\n",
       "| 97 | 2.406775 | 0.8652509 | 1.325690 | 4.517138 |\n",
       "| 98 | 2.433633 | 0.8851290 | 1.332338 | 4.600117 |\n",
       "| 99 | 2.460790 | 0.9054082 | 1.339020 | 4.684624 |\n",
       "| 100 | 2.488250 | 0.9260963 | 1.345735 | 4.770687 |\n",
       "\n",
       "\n",
       "$redfox\n",
       ":   \n",
       "A data.frame: 6 × 4\n",
       "\n",
       "| <!--/--> | Predicted &lt;dbl&gt; | SE &lt;dbl&gt; | upper &lt;dbl&gt; | lower &lt;dbl&gt; |\n",
       "|---|---|---|---|---|\n",
       "| 95 | 0.9561608 | 0.3587184 | 0.002652104 | 0.9999995 |\n",
       "| 96 | 0.9608406 | 0.3586794 | 0.002350444 | 0.9999997 |\n",
       "| 97 | 0.9650935 | 0.3586617 | 0.002076209 | 0.9999998 |\n",
       "| 98 | 0.9689488 | 0.3586670 | 0.001827812 | 0.9999999 |\n",
       "| 99 | 0.9724351 | 0.3586962 | 0.001603647 | 0.9999999 |\n",
       "| 100 | 0.9755800 | 0.3587497 | 0.001402105 | 0.9999999 |\n",
       "\n",
       "\n",
       "\n",
       "\n"
      ],
      "text/plain": [
       "$coyote\n",
       "    Predicted        SE    upper    lower\n",
       "95   2.353946 0.8266677 1.312493 4.355653\n",
       "96   2.380214 0.8457662 1.319075 4.435659\n",
       "97   2.406775 0.8652509 1.325690 4.517138\n",
       "98   2.433633 0.8851290 1.332338 4.600117\n",
       "99   2.460790 0.9054082 1.339020 4.684624\n",
       "100  2.488250 0.9260963 1.345735 4.770687\n",
       "\n",
       "$redfox\n",
       "    Predicted        SE       upper     lower\n",
       "95  0.9561608 0.3587184 0.002652104 0.9999995\n",
       "96  0.9608406 0.3586794 0.002350444 0.9999997\n",
       "97  0.9650935 0.3586617 0.002076209 0.9999998\n",
       "98  0.9689488 0.3586670 0.001827812 0.9999999\n",
       "99  0.9724351 0.3586962 0.001603647 0.9999999\n",
       "100 0.9755800 0.3587497 0.001402105 0.9999999\n"
      ]
     },
     "metadata": {},
     "output_type": "display_data"
    }
   ],
   "source": [
    "pr <- predict(mod_covs, type = \"state\", newdata = nd)\n",
    "lapply(pr, tail)"
   ]
  },
  {
   "cell_type": "markdown",
   "metadata": {
    "slideshow": {
     "slide_type": "fragment"
    }
   },
   "source": [
    "Note that the predictions will match the type of model for each species.\n",
    "\n",
    "So `coyote` represents abundances, and `redfox` represents occupancy, since we set `modelOccupancy = \"redfox\"`."
   ]
  },
  {
   "cell_type": "markdown",
   "metadata": {
    "slideshow": {
     "slide_type": "slide"
    }
   },
   "source": [
    "### Create plot\n",
    "\n",
    "First combine the outputs into a single data frame for `ggplot2`."
   ]
  },
  {
   "cell_type": "code",
   "execution_count": 22,
   "metadata": {
    "slideshow": {
     "slide_type": "fragment"
    }
   },
   "outputs": [
    {
     "data": {
      "text/html": [
       "<table class=\"dataframe\">\n",
       "<caption>A data.frame: 6 × 6</caption>\n",
       "<thead>\n",
       "\t<tr><th></th><th scope=col>Predicted</th><th scope=col>SE</th><th scope=col>upper</th><th scope=col>lower</th><th scope=col>species</th><th scope=col>Hdens</th></tr>\n",
       "\t<tr><th></th><th scope=col>&lt;dbl&gt;</th><th scope=col>&lt;dbl&gt;</th><th scope=col>&lt;dbl&gt;</th><th scope=col>&lt;dbl&gt;</th><th scope=col>&lt;chr&gt;</th><th scope=col>&lt;dbl&gt;</th></tr>\n",
       "</thead>\n",
       "<tbody>\n",
       "\t<tr><th scope=row>coyote.1</th><td>0.8293996</td><td>0.08263473</td><td>0.6963272</td><td>1.011962</td><td>coyote</td><td>0.000000</td></tr>\n",
       "\t<tr><th scope=row>coyote.2</th><td>0.8386549</td><td>0.08352508</td><td>0.7057672</td><td>1.023095</td><td>coyote</td><td>1.885550</td></tr>\n",
       "\t<tr><th scope=row>coyote.3</th><td>0.8480136</td><td>0.08451377</td><td>0.7153564</td><td>1.034361</td><td>coyote</td><td>3.771100</td></tr>\n",
       "\t<tr><th scope=row>coyote.4</th><td>0.8574766</td><td>0.08560391</td><td>0.7215977</td><td>1.045762</td><td>coyote</td><td>5.656650</td></tr>\n",
       "\t<tr><th scope=row>coyote.5</th><td>0.8670453</td><td>0.08679842</td><td>0.7260565</td><td>1.057877</td><td>coyote</td><td>7.542199</td></tr>\n",
       "\t<tr><th scope=row>coyote.6</th><td>0.8767207</td><td>0.08809999</td><td>0.7305462</td><td>1.070605</td><td>coyote</td><td>9.427749</td></tr>\n",
       "</tbody>\n",
       "</table>\n"
      ],
      "text/latex": [
       "A data.frame: 6 × 6\n",
       "\\begin{tabular}{r|llllll}\n",
       "  & Predicted & SE & upper & lower & species & Hdens\\\\\n",
       "  & <dbl> & <dbl> & <dbl> & <dbl> & <chr> & <dbl>\\\\\n",
       "\\hline\n",
       "\tcoyote.1 & 0.8293996 & 0.08263473 & 0.6963272 & 1.011962 & coyote & 0.000000\\\\\n",
       "\tcoyote.2 & 0.8386549 & 0.08352508 & 0.7057672 & 1.023095 & coyote & 1.885550\\\\\n",
       "\tcoyote.3 & 0.8480136 & 0.08451377 & 0.7153564 & 1.034361 & coyote & 3.771100\\\\\n",
       "\tcoyote.4 & 0.8574766 & 0.08560391 & 0.7215977 & 1.045762 & coyote & 5.656650\\\\\n",
       "\tcoyote.5 & 0.8670453 & 0.08679842 & 0.7260565 & 1.057877 & coyote & 7.542199\\\\\n",
       "\tcoyote.6 & 0.8767207 & 0.08809999 & 0.7305462 & 1.070605 & coyote & 9.427749\\\\\n",
       "\\end{tabular}\n"
      ],
      "text/markdown": [
       "\n",
       "A data.frame: 6 × 6\n",
       "\n",
       "| <!--/--> | Predicted &lt;dbl&gt; | SE &lt;dbl&gt; | upper &lt;dbl&gt; | lower &lt;dbl&gt; | species &lt;chr&gt; | Hdens &lt;dbl&gt; |\n",
       "|---|---|---|---|---|---|---|\n",
       "| coyote.1 | 0.8293996 | 0.08263473 | 0.6963272 | 1.011962 | coyote | 0.000000 |\n",
       "| coyote.2 | 0.8386549 | 0.08352508 | 0.7057672 | 1.023095 | coyote | 1.885550 |\n",
       "| coyote.3 | 0.8480136 | 0.08451377 | 0.7153564 | 1.034361 | coyote | 3.771100 |\n",
       "| coyote.4 | 0.8574766 | 0.08560391 | 0.7215977 | 1.045762 | coyote | 5.656650 |\n",
       "| coyote.5 | 0.8670453 | 0.08679842 | 0.7260565 | 1.057877 | coyote | 7.542199 |\n",
       "| coyote.6 | 0.8767207 | 0.08809999 | 0.7305462 | 1.070605 | coyote | 9.427749 |\n",
       "\n"
      ],
      "text/plain": [
       "         Predicted SE         upper     lower    species Hdens   \n",
       "coyote.1 0.8293996 0.08263473 0.6963272 1.011962 coyote  0.000000\n",
       "coyote.2 0.8386549 0.08352508 0.7057672 1.023095 coyote  1.885550\n",
       "coyote.3 0.8480136 0.08451377 0.7153564 1.034361 coyote  3.771100\n",
       "coyote.4 0.8574766 0.08560391 0.7215977 1.045762 coyote  5.656650\n",
       "coyote.5 0.8670453 0.08679842 0.7260565 1.057877 coyote  7.542199\n",
       "coyote.6 0.8767207 0.08809999 0.7305462 1.070605 coyote  9.427749"
      ]
     },
     "metadata": {},
     "output_type": "display_data"
    }
   ],
   "source": [
    "plot_data <- do.call(rbind, pr)\n",
    "plot_data$species <- rep(c(\"coyote\", \"redfox\"), each=100)\n",
    "plot_data$Hdens <- hdens_seq\n",
    "head(plot_data)"
   ]
  },
  {
   "cell_type": "code",
   "execution_count": 20,
   "metadata": {
    "slideshow": {
     "slide_type": "slide"
    }
   },
   "outputs": [
    {
     "data": {
      "image/png": "[encoded data removed]",
      "text/plain": [
       "plot without title"
      ]
     },
     "metadata": {
      "image/png": {
       "height": 600,
       "width": 900
      }
     },
     "output_type": "display_data"
    }
   ],
   "source": [
    "library(ggplot2)\n",
    "\n",
    "ggplot(data = plot_data, aes(x = Hdens)) +\n",
    "  geom_ribbon(aes(ymin = lower, ymax = upper, fill=species), alpha=0.2) +\n",
    "  geom_line(aes(y = Predicted, col=species)) +\n",
    "  facet_wrap(\"species\", scales='free') +\n",
    "  theme_bw(base_size=20) +\n",
    "  theme(panel.grid = element_blank())"
   ]
  },
  {
   "cell_type": "markdown",
   "metadata": {
    "slideshow": {
     "slide_type": "fragment"
    }
   },
   "source": [
    "The huge error bars for red fox are likely due to the high uncertainty in the interaction parameter estimates."
   ]
  },
  {
   "cell_type": "markdown",
   "metadata": {
    "slideshow": {
     "slide_type": "slide"
    }
   },
   "source": [
    "### Fix abundance of a species\n",
    "\n",
    "We might want to get predictions for a specific abundance value of a dominant species.\n",
    "\n",
    "For example here, with coyote absent (abundance = 0)"
   ]
  },
  {
   "cell_type": "markdown",
   "metadata": {
    "slideshow": {
     "slide_type": "fragment"
    }
   },
   "source": [
    "We just need to add the species abundance to the `newdata` data frame:"
   ]
  },
  {
   "cell_type": "code",
   "execution_count": 23,
   "metadata": {
    "slideshow": {
     "slide_type": "fragment"
    }
   },
   "outputs": [
    {
     "name": "stderr",
     "output_type": "stream",
     "text": [
      "Bootstrapping confidence intervals with 100 samples\n",
      "\n"
     ]
    },
    {
     "data": {
      "text/html": [
       "<dl>\n",
       "\t<dt>$coyote</dt>\n",
       "\t\t<dd><table class=\"dataframe\">\n",
       "<caption>A data.frame: 6 × 4</caption>\n",
       "<thead>\n",
       "\t<tr><th></th><th scope=col>Predicted</th><th scope=col>SE</th><th scope=col>upper</th><th scope=col>lower</th></tr>\n",
       "\t<tr><th></th><th scope=col>&lt;dbl&gt;</th><th scope=col>&lt;dbl&gt;</th><th scope=col>&lt;dbl&gt;</th><th scope=col>&lt;dbl&gt;</th></tr>\n",
       "</thead>\n",
       "<tbody>\n",
       "\t<tr><th scope=row>95</th><td>2.353946</td><td>0.6968732</td><td>1.424766</td><td>4.043279</td></tr>\n",
       "\t<tr><th scope=row>96</th><td>2.380214</td><td>0.7126926</td><td>1.433836</td><td>4.107781</td></tr>\n",
       "\t<tr><th scope=row>97</th><td>2.406775</td><td>0.7288180</td><td>1.442964</td><td>4.173325</td></tr>\n",
       "\t<tr><th scope=row>98</th><td>2.433633</td><td>0.7452550</td><td>1.452150</td><td>4.239928</td></tr>\n",
       "\t<tr><th scope=row>99</th><td>2.460790</td><td>0.7620092</td><td>1.461395</td><td>4.307607</td></tr>\n",
       "\t<tr><th scope=row>100</th><td>2.488250</td><td>0.7790863</td><td>1.470699</td><td>4.376379</td></tr>\n",
       "</tbody>\n",
       "</table>\n",
       "</dd>\n",
       "\t<dt>$redfox</dt>\n",
       "\t\t<dd><table class=\"dataframe\">\n",
       "<caption>A data.frame: 6 × 4</caption>\n",
       "<thead>\n",
       "\t<tr><th></th><th scope=col>Predicted</th><th scope=col>SE</th><th scope=col>upper</th><th scope=col>lower</th></tr>\n",
       "\t<tr><th></th><th scope=col>&lt;dbl&gt;</th><th scope=col>&lt;dbl&gt;</th><th scope=col>&lt;dbl&gt;</th><th scope=col>&lt;dbl&gt;</th></tr>\n",
       "</thead>\n",
       "<tbody>\n",
       "\t<tr><th scope=row>95</th><td>0.05373818</td><td>0.2319798</td><td>0.0005879989</td><td>0.8023567</td></tr>\n",
       "\t<tr><th scope=row>96</th><td>0.05436170</td><td>0.2353117</td><td>0.0005673956</td><td>0.8109748</td></tr>\n",
       "\t<tr><th scope=row>97</th><td>0.05499205</td><td>0.2386007</td><td>0.0005475516</td><td>0.8193003</td></tr>\n",
       "\t<tr><th scope=row>98</th><td>0.05562927</td><td>0.2418470</td><td>0.0005284372</td><td>0.8273357</td></tr>\n",
       "\t<tr><th scope=row>99</th><td>0.05627343</td><td>0.2450506</td><td>0.0005100242</td><td>0.8350843</td></tr>\n",
       "\t<tr><th scope=row>100</th><td>0.05692461</td><td>0.2482116</td><td>0.0004922856</td><td>0.8425502</td></tr>\n",
       "</tbody>\n",
       "</table>\n",
       "</dd>\n",
       "</dl>\n"
      ],
      "text/latex": [
       "\\begin{description}\n",
       "\\item[\\$coyote] A data.frame: 6 × 4\n",
       "\\begin{tabular}{r|llll}\n",
       "  & Predicted & SE & upper & lower\\\\\n",
       "  & <dbl> & <dbl> & <dbl> & <dbl>\\\\\n",
       "\\hline\n",
       "\t95 & 2.353946 & 0.6968732 & 1.424766 & 4.043279\\\\\n",
       "\t96 & 2.380214 & 0.7126926 & 1.433836 & 4.107781\\\\\n",
       "\t97 & 2.406775 & 0.7288180 & 1.442964 & 4.173325\\\\\n",
       "\t98 & 2.433633 & 0.7452550 & 1.452150 & 4.239928\\\\\n",
       "\t99 & 2.460790 & 0.7620092 & 1.461395 & 4.307607\\\\\n",
       "\t100 & 2.488250 & 0.7790863 & 1.470699 & 4.376379\\\\\n",
       "\\end{tabular}\n",
       "\n",
       "\\item[\\$redfox] A data.frame: 6 × 4\n",
       "\\begin{tabular}{r|llll}\n",
       "  & Predicted & SE & upper & lower\\\\\n",
       "  & <dbl> & <dbl> & <dbl> & <dbl>\\\\\n",
       "\\hline\n",
       "\t95 & 0.05373818 & 0.2319798 & 0.0005879989 & 0.8023567\\\\\n",
       "\t96 & 0.05436170 & 0.2353117 & 0.0005673956 & 0.8109748\\\\\n",
       "\t97 & 0.05499205 & 0.2386007 & 0.0005475516 & 0.8193003\\\\\n",
       "\t98 & 0.05562927 & 0.2418470 & 0.0005284372 & 0.8273357\\\\\n",
       "\t99 & 0.05627343 & 0.2450506 & 0.0005100242 & 0.8350843\\\\\n",
       "\t100 & 0.05692461 & 0.2482116 & 0.0004922856 & 0.8425502\\\\\n",
       "\\end{tabular}\n",
       "\n",
       "\\end{description}\n"
      ],
      "text/markdown": [
       "$coyote\n",
       ":   \n",
       "A data.frame: 6 × 4\n",
       "\n",
       "| <!--/--> | Predicted &lt;dbl&gt; | SE &lt;dbl&gt; | upper &lt;dbl&gt; | lower &lt;dbl&gt; |\n",
       "|---|---|---|---|---|\n",
       "| 95 | 2.353946 | 0.6968732 | 1.424766 | 4.043279 |\n",
       "| 96 | 2.380214 | 0.7126926 | 1.433836 | 4.107781 |\n",
       "| 97 | 2.406775 | 0.7288180 | 1.442964 | 4.173325 |\n",
       "| 98 | 2.433633 | 0.7452550 | 1.452150 | 4.239928 |\n",
       "| 99 | 2.460790 | 0.7620092 | 1.461395 | 4.307607 |\n",
       "| 100 | 2.488250 | 0.7790863 | 1.470699 | 4.376379 |\n",
       "\n",
       "\n",
       "$redfox\n",
       ":   \n",
       "A data.frame: 6 × 4\n",
       "\n",
       "| <!--/--> | Predicted &lt;dbl&gt; | SE &lt;dbl&gt; | upper &lt;dbl&gt; | lower &lt;dbl&gt; |\n",
       "|---|---|---|---|---|\n",
       "| 95 | 0.05373818 | 0.2319798 | 0.0005879989 | 0.8023567 |\n",
       "| 96 | 0.05436170 | 0.2353117 | 0.0005673956 | 0.8109748 |\n",
       "| 97 | 0.05499205 | 0.2386007 | 0.0005475516 | 0.8193003 |\n",
       "| 98 | 0.05562927 | 0.2418470 | 0.0005284372 | 0.8273357 |\n",
       "| 99 | 0.05627343 | 0.2450506 | 0.0005100242 | 0.8350843 |\n",
       "| 100 | 0.05692461 | 0.2482116 | 0.0004922856 | 0.8425502 |\n",
       "\n",
       "\n",
       "\n",
       "\n"
      ],
      "text/plain": [
       "$coyote\n",
       "    Predicted        SE    upper    lower\n",
       "95   2.353946 0.6968732 1.424766 4.043279\n",
       "96   2.380214 0.7126926 1.433836 4.107781\n",
       "97   2.406775 0.7288180 1.442964 4.173325\n",
       "98   2.433633 0.7452550 1.452150 4.239928\n",
       "99   2.460790 0.7620092 1.461395 4.307607\n",
       "100  2.488250 0.7790863 1.470699 4.376379\n",
       "\n",
       "$redfox\n",
       "     Predicted        SE        upper     lower\n",
       "95  0.05373818 0.2319798 0.0005879989 0.8023567\n",
       "96  0.05436170 0.2353117 0.0005673956 0.8109748\n",
       "97  0.05499205 0.2386007 0.0005475516 0.8193003\n",
       "98  0.05562927 0.2418470 0.0005284372 0.8273357\n",
       "99  0.05627343 0.2450506 0.0005100242 0.8350843\n",
       "100 0.05692461 0.2482116 0.0004922856 0.8425502\n"
      ]
     },
     "metadata": {},
     "output_type": "display_data"
    }
   ],
   "source": [
    "nd$coyote <- 0\n",
    "pr <- predict(mod_covs, type = \"state\", newdata = nd)\n",
    "lapply(pr, tail)"
   ]
  },
  {
   "cell_type": "markdown",
   "metadata": {
    "slideshow": {
     "slide_type": "fragment"
    }
   },
   "source": [
    "Note that while still high, the SEs around the occupancy estimates for red fox are much smaller than before. That's because we are \"zeroing out\" the interaction terms and their associated uncertainty."
   ]
  },
  {
   "cell_type": "code",
   "execution_count": 24,
   "metadata": {
    "slideshow": {
     "slide_type": "slide"
    }
   },
   "outputs": [
    {
     "data": {
      "image/png": "[encoded data removed]",
      "text/plain": [
       "plot without title"
      ]
     },
     "metadata": {
      "image/png": {
       "height": 600,
       "width": 900
      }
     },
     "output_type": "display_data"
    }
   ],
   "source": [
    "plot_data <- do.call(rbind, pr)\n",
    "plot_data$species <- rep(c(\"coyote\", \"redfox\"), each=100)\n",
    "plot_data$Hdens <- hdens_seq\n",
    "ggplot(data = plot_data, aes(x = Hdens)) +\n",
    "  geom_ribbon(aes(ymin = lower, ymax = upper, fill=species), alpha=0.2) +\n",
    "  geom_line(aes(y = Predicted, col=species)) +\n",
    "  facet_wrap(\"species\", scales='free') +\n",
    "  theme_bw(base_size=20) +\n",
    "  theme(panel.grid = element_blank())"
   ]
  },
  {
   "cell_type": "markdown",
   "metadata": {
    "slideshow": {
     "slide_type": "fragment"
    }
   },
   "source": [
    "Overall red fox predicted occupancy is lower when coyote is absent.\n",
    "\n",
    "That makes sense given the positive interaction intercept in the model."
   ]
  },
  {
   "cell_type": "markdown",
   "metadata": {
    "slideshow": {
     "slide_type": "slide"
    }
   },
   "source": [
    "If you want to try `occuRNMulti` get in touch or install yourself using the code I provided at the beginning.\n",
    "\n",
    "There are definitely missing features and probably bugs!"
   ]
  }
 ],
 "metadata": {
  "celltoolbar": "Slideshow",
  "kernelspec": {
   "display_name": "R",
   "language": "R",
   "name": "ir"
  },
  "language_info": {
   "codemirror_mode": "r",
   "file_extension": ".r",
   "mimetype": "text/x-r-source",
   "name": "R",
   "pygments_lexer": "r",
   "version": "4.4.1"
  },
  "rise": {
   "enable_chalkboard": true,
   "scroll": true
  }
 },
 "nbformat": 4,
 "nbformat_minor": 4
}
